{
 "cells": [
  {
   "cell_type": "code",
   "execution_count": 5,
   "metadata": {},
   "outputs": [],
   "source": [
    "import pandas as pd\n",
    "import numpy as np"
   ]
  },
  {
   "cell_type": "code",
   "execution_count": 20,
   "metadata": {},
   "outputs": [],
   "source": [
    "\n",
    "d = {'mid-point(x)': [14.5, 24.5,34.5,44.5,54.5,64.5,74.5,84.5], 'freq.': [8, 18, 25 ,22, 16, 6, 3,1]}\n",
    "df = pd.DataFrame(data=d)\n",
    "df\n",
    "df2 = pd.DataFrame(data=d)"
   ]
  },
  {
   "cell_type": "code",
   "execution_count": 11,
   "metadata": {},
   "outputs": [
    {
     "data": {
      "text/html": [
       "<div>\n",
       "<style scoped>\n",
       "    .dataframe tbody tr th:only-of-type {\n",
       "        vertical-align: middle;\n",
       "    }\n",
       "\n",
       "    .dataframe tbody tr th {\n",
       "        vertical-align: top;\n",
       "    }\n",
       "\n",
       "    .dataframe thead th {\n",
       "        text-align: right;\n",
       "    }\n",
       "</style>\n",
       "<table border=\"1\" class=\"dataframe\">\n",
       "  <thead>\n",
       "    <tr style=\"text-align: right;\">\n",
       "      <th></th>\n",
       "      <th>mid-point(x)</th>\n",
       "      <th>freq.</th>\n",
       "      <th>f*x</th>\n",
       "    </tr>\n",
       "  </thead>\n",
       "  <tbody>\n",
       "    <tr>\n",
       "      <th>0</th>\n",
       "      <td>14.5</td>\n",
       "      <td>8</td>\n",
       "      <td>116.0</td>\n",
       "    </tr>\n",
       "    <tr>\n",
       "      <th>1</th>\n",
       "      <td>24.5</td>\n",
       "      <td>18</td>\n",
       "      <td>441.0</td>\n",
       "    </tr>\n",
       "    <tr>\n",
       "      <th>2</th>\n",
       "      <td>34.5</td>\n",
       "      <td>25</td>\n",
       "      <td>862.5</td>\n",
       "    </tr>\n",
       "    <tr>\n",
       "      <th>3</th>\n",
       "      <td>44.5</td>\n",
       "      <td>22</td>\n",
       "      <td>979.0</td>\n",
       "    </tr>\n",
       "    <tr>\n",
       "      <th>4</th>\n",
       "      <td>54.5</td>\n",
       "      <td>16</td>\n",
       "      <td>872.0</td>\n",
       "    </tr>\n",
       "    <tr>\n",
       "      <th>5</th>\n",
       "      <td>64.5</td>\n",
       "      <td>6</td>\n",
       "      <td>387.0</td>\n",
       "    </tr>\n",
       "    <tr>\n",
       "      <th>6</th>\n",
       "      <td>74.5</td>\n",
       "      <td>3</td>\n",
       "      <td>223.5</td>\n",
       "    </tr>\n",
       "    <tr>\n",
       "      <th>7</th>\n",
       "      <td>84.5</td>\n",
       "      <td>1</td>\n",
       "      <td>84.5</td>\n",
       "    </tr>\n",
       "  </tbody>\n",
       "</table>\n",
       "</div>"
      ],
      "text/plain": [
       "   mid-point(x)  freq.    f*x\n",
       "0          14.5      8  116.0\n",
       "1          24.5     18  441.0\n",
       "2          34.5     25  862.5\n",
       "3          44.5     22  979.0\n",
       "4          54.5     16  872.0\n",
       "5          64.5      6  387.0\n",
       "6          74.5      3  223.5\n",
       "7          84.5      1   84.5"
      ]
     },
     "execution_count": 11,
     "metadata": {},
     "output_type": "execute_result"
    }
   ],
   "source": [
    "df['f*x'] = df['mid-point(x)'] * df['freq.']\n",
    "df"
   ]
  },
  {
   "cell_type": "code",
   "execution_count": 14,
   "metadata": {},
   "outputs": [
    {
     "data": {
      "text/plain": [
       "3965.5"
      ]
     },
     "execution_count": 14,
     "metadata": {},
     "output_type": "execute_result"
    }
   ],
   "source": [
    "df['f*x'].sum()"
   ]
  },
  {
   "cell_type": "code",
   "execution_count": 17,
   "metadata": {},
   "outputs": [],
   "source": [
    "df['f*x^2'] = df['mid-point(x)'].pow(2) * df['freq.']"
   ]
  },
  {
   "cell_type": "code",
   "execution_count": 18,
   "metadata": {},
   "outputs": [
    {
     "data": {
      "text/html": [
       "<div>\n",
       "<style scoped>\n",
       "    .dataframe tbody tr th:only-of-type {\n",
       "        vertical-align: middle;\n",
       "    }\n",
       "\n",
       "    .dataframe tbody tr th {\n",
       "        vertical-align: top;\n",
       "    }\n",
       "\n",
       "    .dataframe thead th {\n",
       "        text-align: right;\n",
       "    }\n",
       "</style>\n",
       "<table border=\"1\" class=\"dataframe\">\n",
       "  <thead>\n",
       "    <tr style=\"text-align: right;\">\n",
       "      <th></th>\n",
       "      <th>mid-point(x)</th>\n",
       "      <th>freq.</th>\n",
       "      <th>f*x</th>\n",
       "      <th>f*x^2</th>\n",
       "    </tr>\n",
       "  </thead>\n",
       "  <tbody>\n",
       "    <tr>\n",
       "      <th>0</th>\n",
       "      <td>14.5</td>\n",
       "      <td>8</td>\n",
       "      <td>116.0</td>\n",
       "      <td>1682.00</td>\n",
       "    </tr>\n",
       "    <tr>\n",
       "      <th>1</th>\n",
       "      <td>24.5</td>\n",
       "      <td>18</td>\n",
       "      <td>441.0</td>\n",
       "      <td>10804.50</td>\n",
       "    </tr>\n",
       "    <tr>\n",
       "      <th>2</th>\n",
       "      <td>34.5</td>\n",
       "      <td>25</td>\n",
       "      <td>862.5</td>\n",
       "      <td>29756.25</td>\n",
       "    </tr>\n",
       "    <tr>\n",
       "      <th>3</th>\n",
       "      <td>44.5</td>\n",
       "      <td>22</td>\n",
       "      <td>979.0</td>\n",
       "      <td>43565.50</td>\n",
       "    </tr>\n",
       "    <tr>\n",
       "      <th>4</th>\n",
       "      <td>54.5</td>\n",
       "      <td>16</td>\n",
       "      <td>872.0</td>\n",
       "      <td>47524.00</td>\n",
       "    </tr>\n",
       "    <tr>\n",
       "      <th>5</th>\n",
       "      <td>64.5</td>\n",
       "      <td>6</td>\n",
       "      <td>387.0</td>\n",
       "      <td>24961.50</td>\n",
       "    </tr>\n",
       "    <tr>\n",
       "      <th>6</th>\n",
       "      <td>74.5</td>\n",
       "      <td>3</td>\n",
       "      <td>223.5</td>\n",
       "      <td>16650.75</td>\n",
       "    </tr>\n",
       "    <tr>\n",
       "      <th>7</th>\n",
       "      <td>84.5</td>\n",
       "      <td>1</td>\n",
       "      <td>84.5</td>\n",
       "      <td>7140.25</td>\n",
       "    </tr>\n",
       "  </tbody>\n",
       "</table>\n",
       "</div>"
      ],
      "text/plain": [
       "   mid-point(x)  freq.    f*x     f*x^2\n",
       "0          14.5      8  116.0   1682.00\n",
       "1          24.5     18  441.0  10804.50\n",
       "2          34.5     25  862.5  29756.25\n",
       "3          44.5     22  979.0  43565.50\n",
       "4          54.5     16  872.0  47524.00\n",
       "5          64.5      6  387.0  24961.50\n",
       "6          74.5      3  223.5  16650.75\n",
       "7          84.5      1   84.5   7140.25"
      ]
     },
     "execution_count": 18,
     "metadata": {},
     "output_type": "execute_result"
    }
   ],
   "source": [
    "df"
   ]
  },
  {
   "cell_type": "code",
   "execution_count": 19,
   "metadata": {},
   "outputs": [
    {
     "data": {
      "text/plain": [
       "182084.75"
      ]
     },
     "execution_count": 19,
     "metadata": {},
     "output_type": "execute_result"
    }
   ],
   "source": [
    "df['f*x^2'].sum()"
   ]
  },
  {
   "cell_type": "code",
   "execution_count": 21,
   "metadata": {},
   "outputs": [
    {
     "data": {
      "text/html": [
       "<div>\n",
       "<style scoped>\n",
       "    .dataframe tbody tr th:only-of-type {\n",
       "        vertical-align: middle;\n",
       "    }\n",
       "\n",
       "    .dataframe tbody tr th {\n",
       "        vertical-align: top;\n",
       "    }\n",
       "\n",
       "    .dataframe thead th {\n",
       "        text-align: right;\n",
       "    }\n",
       "</style>\n",
       "<table border=\"1\" class=\"dataframe\">\n",
       "  <thead>\n",
       "    <tr style=\"text-align: right;\">\n",
       "      <th></th>\n",
       "      <th>mid-point(x)</th>\n",
       "      <th>freq.</th>\n",
       "    </tr>\n",
       "  </thead>\n",
       "  <tbody>\n",
       "    <tr>\n",
       "      <th>0</th>\n",
       "      <td>14.5</td>\n",
       "      <td>8</td>\n",
       "    </tr>\n",
       "    <tr>\n",
       "      <th>1</th>\n",
       "      <td>24.5</td>\n",
       "      <td>18</td>\n",
       "    </tr>\n",
       "    <tr>\n",
       "      <th>2</th>\n",
       "      <td>34.5</td>\n",
       "      <td>25</td>\n",
       "    </tr>\n",
       "    <tr>\n",
       "      <th>3</th>\n",
       "      <td>44.5</td>\n",
       "      <td>22</td>\n",
       "    </tr>\n",
       "    <tr>\n",
       "      <th>4</th>\n",
       "      <td>54.5</td>\n",
       "      <td>16</td>\n",
       "    </tr>\n",
       "    <tr>\n",
       "      <th>5</th>\n",
       "      <td>64.5</td>\n",
       "      <td>6</td>\n",
       "    </tr>\n",
       "    <tr>\n",
       "      <th>6</th>\n",
       "      <td>74.5</td>\n",
       "      <td>3</td>\n",
       "    </tr>\n",
       "    <tr>\n",
       "      <th>7</th>\n",
       "      <td>84.5</td>\n",
       "      <td>1</td>\n",
       "    </tr>\n",
       "  </tbody>\n",
       "</table>\n",
       "</div>"
      ],
      "text/plain": [
       "   mid-point(x)  freq.\n",
       "0          14.5      8\n",
       "1          24.5     18\n",
       "2          34.5     25\n",
       "3          44.5     22\n",
       "4          54.5     16\n",
       "5          64.5      6\n",
       "6          74.5      3\n",
       "7          84.5      1"
      ]
     },
     "execution_count": 21,
     "metadata": {},
     "output_type": "execute_result"
    }
   ],
   "source": [
    "df2"
   ]
  },
  {
   "cell_type": "code",
   "execution_count": 41,
   "metadata": {},
   "outputs": [
    {
     "name": "stdout",
     "output_type": "stream",
     "text": [
      "234.79\n",
      "15.32\n",
      "40.06\n"
     ]
    }
   ],
   "source": [
    "def variance_freq_dist(d_frame,c1, f, m = 1, c = 0):\n",
    "    A = (m*d_frame[c1]+c) * d_frame[f]\n",
    "    \n",
    "    B = (m*d_frame[c1] + c).pow(2) * d_frame[f]\n",
    "    \n",
    "    n = d_frame[f].sum()\n",
    "    \n",
    "    sigma_sqrd = 1/n * (B.sum() - (A.sum()**2)/n)\n",
    "    \n",
    "    return round(sigma_sqrd, 2)\n",
    "\n",
    "def mean_freq_dist(d_frame,c1, f, m = 1, c = 0):\n",
    "    n = d_frame[f].sum()\n",
    "    mean = ((m*d_frame[c1] + c)* d_frame[f]).sum()/n\n",
    "    return round(mean, 2)\n",
    "\n",
    "\n",
    "var = variance_freq_dist(df, 'mid-point(x)', 'freq.')\n",
    "std = round(np.sqrt(var), 2)\n",
    "mean = mean_freq_dist(df, 'mid-point(x)', 'freq.')\n",
    "print(var)\n",
    "print(std)\n",
    "print(mean)\n"
   ]
  },
  {
   "cell_type": "code",
   "execution_count": 73,
   "metadata": {},
   "outputs": [
    {
     "data": {
      "text/plain": [
       "0    14.5\n",
       "1    24.5\n",
       "2    34.5\n",
       "3    44.5\n",
       "4    54.5\n",
       "5    64.5\n",
       "6    74.5\n",
       "7    84.5\n",
       "Name: mid-point(x), dtype: float64"
      ]
     },
     "execution_count": 73,
     "metadata": {},
     "output_type": "execute_result"
    }
   ],
   "source": [
    "df['mid-point(x)'] * 1"
   ]
  },
  {
   "cell_type": "code",
   "execution_count": 71,
   "metadata": {},
   "outputs": [
    {
     "data": {
      "text/plain": [
       "(234.79, 1040.06)"
      ]
     },
     "execution_count": 71,
     "metadata": {},
     "output_type": "execute_result"
    }
   ],
   "source": [
    "def data_revisor(d_frame,c1, f, m=1, c=0):\n",
    "    var = variance_freq_dist(d_frame,c1, f, m , c)\n",
    "    mean = mean_freq_dist(d_frame,c1, f, m, c)\n",
    "    \n",
    "    return (var, mean)\n",
    "\n",
    "data_revisor(df, 'mid-point(x)', 'freq.', m=1, c = 1000)  "
   ]
  },
  {
   "cell_type": "code",
   "execution_count": 69,
   "metadata": {},
   "outputs": [
    {
     "data": {
      "text/plain": [
       "200.3"
      ]
     },
     "execution_count": 69,
     "metadata": {},
     "output_type": "execute_result"
    }
   ],
   "source": [
    "#939.17/234.79\n",
    "#2113.13/234.79\n",
    "#3756.68/234.79\n",
    "5869.81/234.79\n",
    "40.06 * 5"
   ]
  },
  {
   "cell_type": "code",
   "execution_count": 84,
   "metadata": {},
   "outputs": [
    {
     "data": {
      "text/plain": [
       "4.0"
      ]
     },
     "execution_count": 84,
     "metadata": {},
     "output_type": "execute_result"
    }
   ],
   "source": [
    "sum(range(1,3))/2"
   ]
  },
  {
   "cell_type": "code",
   "execution_count": null,
   "metadata": {},
   "outputs": [],
   "source": []
  }
 ],
 "metadata": {
  "kernelspec": {
   "display_name": "Python 3",
   "language": "python",
   "name": "python3"
  },
  "language_info": {
   "codemirror_mode": {
    "name": "ipython",
    "version": 3
   },
   "file_extension": ".py",
   "mimetype": "text/x-python",
   "name": "python",
   "nbconvert_exporter": "python",
   "pygments_lexer": "ipython3",
   "version": "3.8.3"
  }
 },
 "nbformat": 4,
 "nbformat_minor": 4
}
