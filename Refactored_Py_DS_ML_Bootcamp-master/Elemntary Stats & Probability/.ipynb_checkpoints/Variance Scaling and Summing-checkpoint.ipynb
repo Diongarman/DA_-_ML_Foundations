{
 "cells": [
  {
   "cell_type": "markdown",
   "metadata": {},
   "source": [
    "## Part 1: Sums of uncorrelated random variables\n",
    "\n",
    "Variance of the sum is the sum of the variance"
   ]
  },
  {
   "cell_type": "code",
   "execution_count": 1,
   "metadata": {},
   "outputs": [
    {
     "name": "stdout",
     "output_type": "stream",
     "text": [
      "8.997334037920371\n",
      "16.00182243912966\n",
      "24.9763400156124\n"
     ]
    }
   ],
   "source": [
    "from numpy.random import randn\n",
    "import numpy as np\n",
    "n = 1000000\n",
    "x1 = np.sqrt(9) * randn(n) # 1M samples from normal distribution with variance=9\n",
    "print(x1.var()) # 9\n",
    "x2 = np.sqrt(16) * randn(n) # 1M samples from normal distribution with variance=16\n",
    "print(x2.var()) # 16\n",
    "xp = x1 + x2\n",
    "print(xp.var()) # 25"
   ]
  },
  {
   "cell_type": "markdown",
   "metadata": {},
   "source": [
    "![title](img/formula1.png)"
   ]
  },
  {
   "cell_type": "markdown",
   "metadata": {},
   "source": [
    "## Part 2: Weighted sums of uncorrelated random variables: Applications to machine learning and scientific meta-analysis"
   ]
  },
  {
   "cell_type": "markdown",
   "metadata": {},
   "source": [
    "![title](img/formula2.png)"
   ]
  },
  {
   "cell_type": "code",
   "execution_count": 2,
   "metadata": {},
   "outputs": [
    {
     "name": "stdout",
     "output_type": "stream",
     "text": [
      "10.006355951074033\n",
      "4.8999999999999995\n",
      "4.903114416026275\n"
     ]
    }
   ],
   "source": [
    "from numpy.random import randn\n",
    "import numpy as np\n",
    "n = 1000000\n",
    "baseline_var = 10\n",
    "w = 0.7\n",
    "x1 = np.sqrt(baseline_var) * randn(n) # Array of 1M samples from normal distribution with variance=10\n",
    "print(x1.var()) # 10\n",
    "xp = w * x1 # Scale this by w=0.7\n",
    "print(w**2 * baseline_var) # 4.9 (predicted variance)\n",
    "print(xp.var()) # 4.9 (empirical variance) "
   ]
  },
  {
   "cell_type": "markdown",
   "metadata": {},
   "source": [
    "![title](img/formula3.png)"
   ]
  },
  {
   "cell_type": "markdown",
   "metadata": {},
   "source": [
    "### An ensemble model with equal weights"
   ]
  },
  {
   "cell_type": "code",
   "execution_count": null,
   "metadata": {},
   "outputs": [],
   "source": []
  }
 ],
 "metadata": {
  "kernelspec": {
   "display_name": "Python 3",
   "language": "python",
   "name": "python3"
  },
  "language_info": {
   "codemirror_mode": {
    "name": "ipython",
    "version": 3
   },
   "file_extension": ".py",
   "mimetype": "text/x-python",
   "name": "python",
   "nbconvert_exporter": "python",
   "pygments_lexer": "ipython3",
   "version": "3.8.3"
  }
 },
 "nbformat": 4,
 "nbformat_minor": 4
}
