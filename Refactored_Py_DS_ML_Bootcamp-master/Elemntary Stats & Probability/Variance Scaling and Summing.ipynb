{
 "cells": [
  {
   "cell_type": "markdown",
   "metadata": {},
   "source": [
    "## Part 1: Sums of uncorrelated random variables\n",
    "\n",
    "Variance of the sum is the sum of the variance"
   ]
  },
  {
   "cell_type": "code",
   "execution_count": 1,
   "metadata": {},
   "outputs": [
    {
     "name": "stdout",
     "output_type": "stream",
     "text": [
      "8.997334037920371\n",
      "16.00182243912966\n",
      "24.9763400156124\n"
     ]
    }
   ],
   "source": [
    "from numpy.random import randn\n",
    "import numpy as np\n",
    "n = 1000000\n",
    "x1 = np.sqrt(9) * randn(n) # 1M samples from normal distribution with variance=9\n",
    "print(x1.var()) # 9\n",
    "x2 = np.sqrt(16) * randn(n) # 1M samples from normal distribution with variance=16\n",
    "print(x2.var()) # 16\n",
    "xp = x1 + x2\n",
    "print(xp.var()) # 25"
   ]
  },
  {
   "cell_type": "markdown",
   "metadata": {},
   "source": [
    "![title](img/formula1.png)"
   ]
  },
  {
   "cell_type": "markdown",
   "metadata": {},
   "source": [
    "## Part 2: Weighted sums of uncorrelated random variables: Applications to machine learning and scientific meta-analysis"
   ]
  },
  {
   "cell_type": "markdown",
   "metadata": {},
   "source": [
    "![title](img/formula2.png)"
   ]
  },
  {
   "cell_type": "code",
   "execution_count": 2,
   "metadata": {},
   "outputs": [
    {
     "name": "stdout",
     "output_type": "stream",
     "text": [
      "10.006355951074033\n",
      "4.8999999999999995\n",
      "4.903114416026275\n"
     ]
    }
   ],
   "source": [
    "from numpy.random import randn\n",
    "import numpy as np\n",
    "n = 1000000\n",
    "baseline_var = 10\n",
    "w = 0.7\n",
    "x1 = np.sqrt(baseline_var) * randn(n) # Array of 1M samples from normal distribution with variance=10\n",
    "print(x1.var()) # 10\n",
    "xp = w * x1 # Scale this by w=0.7\n",
    "print(w**2 * baseline_var) # 4.9 (predicted variance)\n",
    "print(xp.var()) # 4.9 (empirical variance) "
   ]
  },
  {
   "cell_type": "markdown",
   "metadata": {},
   "source": [
    "![title](img/formula3.png)"
   ]
  },
  {
   "cell_type": "markdown",
   "metadata": {},
   "source": [
    "### An ensemble model with equal weights\n",
    "\n",
    "Imagine that you have built two separate models to predict car prices. While the models are unbiased, they have variance in their errors. That is, sometimes a model prediction will be too high, and sometimes a model prediction will be too low. Model 1 has a mean squared error (MSE) of 1,000 and Model 2 has an MSE of 2,000.\n",
    "\n",
    "A valuable insight from machine learning is that you can often create a better model by simply averaging the predictions of other models. Let’s demonstrate this with simulations below.\n",
    "\n"
   ]
  },
  {
   "cell_type": "code",
   "execution_count": 3,
   "metadata": {},
   "outputs": [
    {
     "name": "stdout",
     "output_type": "stream",
     "text": [
      "1000.1305790375542\n",
      "2002.9286008216736\n",
      "751.6656691755195\n"
     ]
    }
   ],
   "source": [
    "from numpy.random import randn\n",
    "import numpy as np\n",
    "n = 1000000\n",
    "actual = 20000 + 5000 * randn(n)\n",
    "errors1 = np.sqrt(1000) * randn(n)\n",
    "print(errors1.var()) # 1000\n",
    "errors2 = np.sqrt(2000) * randn(n)\n",
    "print(errors2.var()) # 2000\n",
    "\n",
    "# Note that this section could be replaced with \n",
    "# errors_ensemble = 0.5 * errors1 + 0.5 * errors2\n",
    "preds1 = actual + errors1\n",
    "preds2 = actual + errors2\n",
    "preds_ensemble = 0.5 * preds1 + 0.5 * preds2\n",
    "errors_ensemble = preds_ensemble - actual\n",
    "\n",
    "print(errors_ensemble.var()) # 750. Lower than variance of component models!"
   ]
  },
  {
   "cell_type": "code",
   "execution_count": null,
   "metadata": {},
   "outputs": [],
   "source": []
  }
 ],
 "metadata": {
  "kernelspec": {
   "display_name": "Python 3",
   "language": "python",
   "name": "python3"
  },
  "language_info": {
   "codemirror_mode": {
    "name": "ipython",
    "version": 3
   },
   "file_extension": ".py",
   "mimetype": "text/x-python",
   "name": "python",
   "nbconvert_exporter": "python",
   "pygments_lexer": "ipython3",
   "version": "3.8.3"
  }
 },
 "nbformat": 4,
 "nbformat_minor": 4
}
