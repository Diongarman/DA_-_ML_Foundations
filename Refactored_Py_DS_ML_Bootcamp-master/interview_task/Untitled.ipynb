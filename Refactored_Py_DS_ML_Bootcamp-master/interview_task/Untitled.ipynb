{
 "cells": [
  {
   "cell_type": "code",
   "execution_count": 129,
   "metadata": {},
   "outputs": [],
   "source": [
    "import seaborn as sns\n",
    "import matplotlib.pyplot as plt"
   ]
  },
  {
   "cell_type": "code",
   "execution_count": 9,
   "metadata": {},
   "outputs": [
    {
     "name": "stdout",
     "output_type": "stream",
     "text": [
      "0.0008109459291870775\n",
      "0.00045430586452082863\n",
      "0.014206258103409832\n"
     ]
    }
   ],
   "source": [
    "phone_control = 837/1032128\n",
    "fitness_control = 880/1937021\n",
    "headphones_control = 20643/1453092\n",
    "\n",
    "\n",
    "phones_true_sales_count = 30000 * (1-phone_control)\n",
    "fitness_true_sales_count = 24000 * (1-fitness_control)\n",
    "headphones_true_sales_count = 120000 * (1 - headphones_control)\n",
    "\n",
    "print(phone_control)\n",
    "print(fitness_control)\n",
    "print(headphones_control)"
   ]
  },
  {
   "cell_type": "code",
   "execution_count": 7,
   "metadata": {},
   "outputs": [
    {
     "name": "stdout",
     "output_type": "stream",
     "text": [
      "  Audience          prod_cat  ROAS Target %  Media_Spend  Reached_Audience  \\\n",
      "0        E            Phones            200      2000000          22183662   \n",
      "1        E  Fitness Trackers            300      1000000          15723002   \n",
      "2        E        Headphones            150       500000           8365110   \n",
      "3        C            Phones            200       100000           1032128   \n",
      "4        C  Fitness Trackers            300       100000           1937012   \n",
      "5        C        Headphones            150       100000           1453092   \n",
      "\n",
      "   CPM   Sales  ind_sale_revenue   Revenue  \n",
      "0   11   30000               300   9000000  \n",
      "1   16   24000               250   6000000  \n",
      "2   17  120000               150  18000000  \n",
      "3   10     837               300    251100  \n",
      "4   19     880               250    220000  \n",
      "5   15   20643               150   3096450  \n"
     ]
    }
   ],
   "source": [
    "import pandas as pd\n",
    "import numpy as np\n",
    "\n",
    "d = {'Audience': ['E', 'E','E','C','C','C'], 'prod_cat': ['Phones', 'Fitness Trackers', 'Headphones','Phones', 'Fitness Trackers', 'Headphones'], 'ROAS Target %':[200, 300, 150, 200, 300, 150], 'Media_Spend':[2000000, 1000000, 500000, 100000, 100000, 100000], 'Reached_Audience':[22183662,15723002,8365110,1032128,1937012,1453092], 'CPM': [11,16,17,10,19,15], 'Sales': [30000,24000,120000,837,880,20643], 'ind_sale_revenue':[300,250,150,300,250,150], 'Revenue':[9000000, 6000000,18000000,251100,220000,3096450]}\n",
    "df = pd.DataFrame(data=d)\n",
    "print(df)"
   ]
  },
  {
   "cell_type": "code",
   "execution_count": 102,
   "metadata": {},
   "outputs": [
    {
     "data": {
      "text/html": [
       "<div>\n",
       "<style scoped>\n",
       "    .dataframe tbody tr th:only-of-type {\n",
       "        vertical-align: middle;\n",
       "    }\n",
       "\n",
       "    .dataframe tbody tr th {\n",
       "        vertical-align: top;\n",
       "    }\n",
       "\n",
       "    .dataframe thead th {\n",
       "        text-align: right;\n",
       "    }\n",
       "</style>\n",
       "<table border=\"1\" class=\"dataframe\">\n",
       "  <thead>\n",
       "    <tr style=\"text-align: right;\">\n",
       "      <th></th>\n",
       "      <th>0</th>\n",
       "    </tr>\n",
       "  </thead>\n",
       "  <tbody>\n",
       "    <tr>\n",
       "      <th>0</th>\n",
       "      <td>0.000811</td>\n",
       "    </tr>\n",
       "    <tr>\n",
       "      <th>1</th>\n",
       "      <td>0.000454</td>\n",
       "    </tr>\n",
       "    <tr>\n",
       "      <th>2</th>\n",
       "      <td>0.014206</td>\n",
       "    </tr>\n",
       "  </tbody>\n",
       "</table>\n",
       "</div>"
      ],
      "text/plain": [
       "          0\n",
       "0  0.000811\n",
       "1  0.000454\n",
       "2  0.014206"
      ]
     },
     "execution_count": 102,
     "metadata": {},
     "output_type": "execute_result"
    }
   ],
   "source": [
    "percent_converted_anyway = pd.DataFrame(data=((df['Sales']/df['Reached_Audience'])))\n",
    "percent_converted_anyway = percent_converted_anyway[3:].reset_index(drop=True)\n",
    "percent_converted_anyway"
   ]
  },
  {
   "cell_type": "code",
   "execution_count": 103,
   "metadata": {},
   "outputs": [
    {
     "data": {
      "text/html": [
       "<div>\n",
       "<style scoped>\n",
       "    .dataframe tbody tr th:only-of-type {\n",
       "        vertical-align: middle;\n",
       "    }\n",
       "\n",
       "    .dataframe tbody tr th {\n",
       "        vertical-align: top;\n",
       "    }\n",
       "\n",
       "    .dataframe thead th {\n",
       "        text-align: right;\n",
       "    }\n",
       "</style>\n",
       "<table border=\"1\" class=\"dataframe\">\n",
       "  <thead>\n",
       "    <tr style=\"text-align: right;\">\n",
       "      <th></th>\n",
       "      <th>Audience</th>\n",
       "      <th>prod_cat</th>\n",
       "      <th>ROAS Target %</th>\n",
       "      <th>Media_Spend</th>\n",
       "      <th>Reached_Audience</th>\n",
       "      <th>CPM</th>\n",
       "      <th>Sales</th>\n",
       "      <th>ind_sale_revenue</th>\n",
       "      <th>Revenue</th>\n",
       "    </tr>\n",
       "  </thead>\n",
       "  <tbody>\n",
       "    <tr>\n",
       "      <th>0</th>\n",
       "      <td>E</td>\n",
       "      <td>Phones</td>\n",
       "      <td>200</td>\n",
       "      <td>2000000</td>\n",
       "      <td>22183662</td>\n",
       "      <td>11</td>\n",
       "      <td>30000</td>\n",
       "      <td>300</td>\n",
       "      <td>9000000</td>\n",
       "    </tr>\n",
       "    <tr>\n",
       "      <th>1</th>\n",
       "      <td>E</td>\n",
       "      <td>Fitness Trackers</td>\n",
       "      <td>300</td>\n",
       "      <td>1000000</td>\n",
       "      <td>15723002</td>\n",
       "      <td>16</td>\n",
       "      <td>24000</td>\n",
       "      <td>250</td>\n",
       "      <td>6000000</td>\n",
       "    </tr>\n",
       "    <tr>\n",
       "      <th>2</th>\n",
       "      <td>E</td>\n",
       "      <td>Headphones</td>\n",
       "      <td>150</td>\n",
       "      <td>500000</td>\n",
       "      <td>8365110</td>\n",
       "      <td>17</td>\n",
       "      <td>120000</td>\n",
       "      <td>150</td>\n",
       "      <td>18000000</td>\n",
       "    </tr>\n",
       "  </tbody>\n",
       "</table>\n",
       "</div>"
      ],
      "text/plain": [
       "  Audience          prod_cat  ROAS Target %  Media_Spend  Reached_Audience  \\\n",
       "0        E            Phones            200      2000000          22183662   \n",
       "1        E  Fitness Trackers            300      1000000          15723002   \n",
       "2        E        Headphones            150       500000           8365110   \n",
       "\n",
       "   CPM   Sales  ind_sale_revenue   Revenue  \n",
       "0   11   30000               300   9000000  \n",
       "1   16   24000               250   6000000  \n",
       "2   17  120000               150  18000000  "
      ]
     },
     "execution_count": 103,
     "metadata": {},
     "output_type": "execute_result"
    }
   ],
   "source": [
    "exposed = df[df['Audience'] == 'E']\n"
   ]
  },
  {
   "cell_type": "code",
   "execution_count": 104,
   "metadata": {},
   "outputs": [
    {
     "data": {
      "text/html": [
       "<div>\n",
       "<style scoped>\n",
       "    .dataframe tbody tr th:only-of-type {\n",
       "        vertical-align: middle;\n",
       "    }\n",
       "\n",
       "    .dataframe tbody tr th {\n",
       "        vertical-align: top;\n",
       "    }\n",
       "\n",
       "    .dataframe thead th {\n",
       "        text-align: right;\n",
       "    }\n",
       "</style>\n",
       "<table border=\"1\" class=\"dataframe\">\n",
       "  <thead>\n",
       "    <tr style=\"text-align: right;\">\n",
       "      <th></th>\n",
       "      <th>Sales</th>\n",
       "    </tr>\n",
       "  </thead>\n",
       "  <tbody>\n",
       "    <tr>\n",
       "      <th>0</th>\n",
       "      <td>30000</td>\n",
       "    </tr>\n",
       "    <tr>\n",
       "      <th>1</th>\n",
       "      <td>24000</td>\n",
       "    </tr>\n",
       "    <tr>\n",
       "      <th>2</th>\n",
       "      <td>120000</td>\n",
       "    </tr>\n",
       "  </tbody>\n",
       "</table>\n",
       "</div>"
      ],
      "text/plain": [
       "    Sales\n",
       "0   30000\n",
       "1   24000\n",
       "2  120000"
      ]
     },
     "execution_count": 104,
     "metadata": {},
     "output_type": "execute_result"
    }
   ],
   "source": [
    "exp_sales = pd.DataFrame(data=exposed['Sales'])\n",
    "exp_sales"
   ]
  },
  {
   "cell_type": "code",
   "execution_count": 138,
   "metadata": {},
   "outputs": [
    {
     "data": {
      "text/html": [
       "<div>\n",
       "<style scoped>\n",
       "    .dataframe tbody tr th:only-of-type {\n",
       "        vertical-align: middle;\n",
       "    }\n",
       "\n",
       "    .dataframe tbody tr th {\n",
       "        vertical-align: top;\n",
       "    }\n",
       "\n",
       "    .dataframe thead th {\n",
       "        text-align: right;\n",
       "    }\n",
       "</style>\n",
       "<table border=\"1\" class=\"dataframe\">\n",
       "  <thead>\n",
       "    <tr style=\"text-align: right;\">\n",
       "      <th></th>\n",
       "      <th>0</th>\n",
       "    </tr>\n",
       "  </thead>\n",
       "  <tbody>\n",
       "    <tr>\n",
       "      <th>0</th>\n",
       "      <td>29976.0</td>\n",
       "    </tr>\n",
       "    <tr>\n",
       "      <th>1</th>\n",
       "      <td>23989.0</td>\n",
       "    </tr>\n",
       "    <tr>\n",
       "      <th>2</th>\n",
       "      <td>118295.0</td>\n",
       "    </tr>\n",
       "  </tbody>\n",
       "</table>\n",
       "</div>"
      ],
      "text/plain": [
       "          0\n",
       "0   29976.0\n",
       "1   23989.0\n",
       "2  118295.0"
      ]
     },
     "execution_count": 138,
     "metadata": {},
     "output_type": "execute_result"
    }
   ],
   "source": [
    "true_sales = pd.DataFrame(data = exp_sales['Sales'] * (1 - percent_converted_anyway[0]))\n",
    "true_sales = true_sales.round(0)\n",
    "true_sales\n",
    "\n",
    "#ax = sns.barplot(x=exposed['prod_cat'], y=true_sales[0])\n",
    "#plt.ticklabel_format(style='plain', axis='y')\n",
    "true_sales"
   ]
  },
  {
   "cell_type": "code",
   "execution_count": 128,
   "metadata": {},
   "outputs": [
    {
     "data": {
      "image/png": "[encoded data removed]",
      "text/plain": [
       "<Figure size 432x288 with 1 Axes>"
      ]
     },
     "metadata": {
      "needs_background": "light"
     },
     "output_type": "display_data"
    }
   ],
   "source": [
    "true_rev = pd.DataFrame(data=true_sales[0]* exposed['ind_sale_revenue'])\n",
    "true_rev\n",
    "\n",
    "\n",
    "ax = sns.barplot(x=exposed['prod_cat'], y=true_rev[0])\n",
    "plt.ticklabel_format(style='plain', axis='y')"
   ]
  },
  {
   "cell_type": "code",
   "execution_count": 120,
   "metadata": {},
   "outputs": [],
   "source": []
  },
  {
   "cell_type": "code",
   "execution_count": 118,
   "metadata": {},
   "outputs": [],
   "source": [
    "exp_media_spend = pd.DataFrame(data=exposed['Media_Spend'])"
   ]
  },
  {
   "cell_type": "code",
   "execution_count": 131,
   "metadata": {},
   "outputs": [
    {
     "data": {
      "text/html": [
       "<div>\n",
       "<style scoped>\n",
       "    .dataframe tbody tr th:only-of-type {\n",
       "        vertical-align: middle;\n",
       "    }\n",
       "\n",
       "    .dataframe tbody tr th {\n",
       "        vertical-align: top;\n",
       "    }\n",
       "\n",
       "    .dataframe thead th {\n",
       "        text-align: right;\n",
       "    }\n",
       "</style>\n",
       "<table border=\"1\" class=\"dataframe\">\n",
       "  <thead>\n",
       "    <tr style=\"text-align: right;\">\n",
       "      <th></th>\n",
       "      <th>0</th>\n",
       "    </tr>\n",
       "  </thead>\n",
       "  <tbody>\n",
       "    <tr>\n",
       "      <th>0</th>\n",
       "      <td>449.640</td>\n",
       "    </tr>\n",
       "    <tr>\n",
       "      <th>1</th>\n",
       "      <td>599.725</td>\n",
       "    </tr>\n",
       "    <tr>\n",
       "      <th>2</th>\n",
       "      <td>3548.850</td>\n",
       "    </tr>\n",
       "  </tbody>\n",
       "</table>\n",
       "</div>"
      ],
      "text/plain": [
       "          0\n",
       "0   449.640\n",
       "1   599.725\n",
       "2  3548.850"
      ]
     },
     "execution_count": 131,
     "metadata": {},
     "output_type": "execute_result"
    }
   ],
   "source": [
    "actualized_ROAS = true_rev[0]/exp_media_spend['Media_Spend']\n",
    "actualized_ROAS = pd.DataFrame(data=actualized_ROAS * 100)\n",
    "actualized_ROAS"
   ]
  },
  {
   "cell_type": "code",
   "execution_count": 133,
   "metadata": {},
   "outputs": [
    {
     "data": {
      "image/png": "[encoded data removed]",
      "text/plain": [
       "<Figure size 432x288 with 1 Axes>"
      ]
     },
     "metadata": {
      "needs_background": "light"
     },
     "output_type": "display_data"
    }
   ],
   "source": [
    "ax = sns.barplot(x=exposed['prod_cat'], y=actualized_ROAS[0])\n",
    "plt.ticklabel_format(style='plain', axis='y')\n",
    "ax.set(ylabel='actualized iROAS(%)')\n",
    "plt.show()"
   ]
  },
  {
   "cell_type": "code",
   "execution_count": 134,
   "metadata": {},
   "outputs": [
    {
     "data": {
      "text/plain": [
       "23.653333333333332"
      ]
     },
     "execution_count": 134,
     "metadata": {},
     "output_type": "execute_result"
    }
   ],
   "source": [
    "3548/150"
   ]
  },
  {
   "cell_type": "code",
   "execution_count": 136,
   "metadata": {},
   "outputs": [
    {
     "data": {
      "text/plain": [
       "1.9966666666666666"
      ]
     },
     "execution_count": 136,
     "metadata": {},
     "output_type": "execute_result"
    }
   ],
   "source": [
    "599/300"
   ]
  },
  {
   "cell_type": "code",
   "execution_count": 137,
   "metadata": {},
   "outputs": [
    {
     "data": {
      "text/plain": [
       "23.653333333333332"
      ]
     },
     "execution_count": 137,
     "metadata": {},
     "output_type": "execute_result"
    }
   ],
   "source": [
    "3548/150"
   ]
  },
  {
   "cell_type": "code",
   "execution_count": null,
   "metadata": {},
   "outputs": [],
   "source": []
  }
 ],
 "metadata": {
  "kernelspec": {
   "display_name": "Python 3",
   "language": "python",
   "name": "python3"
  },
  "language_info": {
   "codemirror_mode": {
    "name": "ipython",
    "version": 3
   },
   "file_extension": ".py",
   "mimetype": "text/x-python",
   "name": "python",
   "nbconvert_exporter": "python",
   "pygments_lexer": "ipython3",
   "version": "3.8.3"
  }
 },
 "nbformat": 4,
 "nbformat_minor": 4
}
